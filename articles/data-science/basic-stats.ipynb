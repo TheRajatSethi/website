{
 "metadata": {
  "language_info": {
   "codemirror_mode": {
    "name": "ipython",
    "version": 3
   },
   "file_extension": ".py",
   "mimetype": "text/x-python",
   "name": "python",
   "nbconvert_exporter": "python",
   "pygments_lexer": "ipython3",
   "version": 3
  },
  "orig_nbformat": 2
 },
 "nbformat": 4,
 "nbformat_minor": 2,
 "cells": [
  {
   "source": [
    "# Basic Statistics"
   ],
   "cell_type": "markdown",
   "metadata": {}
  },
  {
   "cell_type": "code",
   "execution_count": null,
   "metadata": {},
   "outputs": [],
   "source": [
    "## Terms and Stat Introduction"
   ]
  },
  {
   "source": [
    "Data is usually recorded in data matrix where: - \n",
    "\n",
    "- `Case` or `Observational Unit` - A single record or usually a row of data.\n",
    "- `Characteristics` - Characteristics are the individual column.\n",
    "\n",
    "\n",
    "**Types of variables**\n",
    "\n",
    "- Numerical\n",
    "    - Continuous - Continuous numerical values.\n",
    "    - Discrete - Numerical values with jumps.\n",
    "- Categorical\n",
    "    - Ordinal - Represents a category but the levels have a natural ordering.\n",
    "    - Nominal - categorical variable without this type of special ordering is called a nominal variable.\n",
    "\n",
    "\n",
    "**Variable relationships**\n",
    "\n",
    "- Independent Variables : The do not seem to have any relationship with each other.\n",
    "- Associated Variables : They seem to have some relationship (positively corelated or negetively corelated) with each other.\n",
    "\n",
    "**Observational studies vs Experiments**\n",
    "\n",
    "- Observational - When data is collected in a way that does not directly interfere with how the data arise.\n",
    "- Experimental - When researchers want to investigate the possibility of a causal connection, they conduct an experiment. Usually there will be both an explanatory and a response variable.\n",
    "\n",
    "**Sample and Population**\n",
    "A sample represents a subset of the cases and is often a small fraction of the population. Usually it is too expensive to collect data from the entire population.\n",
    "\n",
    "**Sampling Methods**\n",
    "- "
   ],
   "cell_type": "markdown",
   "metadata": {}
  }
 ]
}